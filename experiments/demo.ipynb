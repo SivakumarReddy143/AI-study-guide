{
 "cells": [
  {
   "cell_type": "code",
   "execution_count": 15,
   "id": "13059445",
   "metadata": {},
   "outputs": [
    {
     "name": "stdout",
     "output_type": "stream",
     "text": [
      "<iframe width=\"560\" height=\"315\" src=\"https://www.youtube.com/embed/l-DM86KmhHQ\" frameborder=\"0\" allowfullscreen></iframe>\n"
     ]
    }
   ],
   "source": [
    "def get_embed_code(video_url):\n",
    "    import re\n",
    "    video_id = re.search(r\"v=([^&]+)\", video_url)\n",
    "    if video_id:\n",
    "        return f'<iframe width=\"560\" height=\"315\" src=\"https://www.youtube.com/embed/{video_id.group(1)}\" frameborder=\"0\" allowfullscreen></iframe>'\n",
    "    return None\n",
    "url = \"https://www.youtube.com/watch?v=l-DM86KmhHQ&t=3308s\"\n",
    "print(get_embed_code(url))"
   ]
  },
  {
   "cell_type": "code",
   "execution_count": 16,
   "id": "0bef8389",
   "metadata": {},
   "outputs": [
    {
     "data": {
      "text/plain": [
       "True"
      ]
     },
     "execution_count": 16,
     "metadata": {},
     "output_type": "execute_result"
    }
   ],
   "source": [
    "import os\n",
    "from dotenv import load_dotenv\n",
    "load_dotenv()"
   ]
  },
  {
   "cell_type": "code",
   "execution_count": 17,
   "id": "297b3dda",
   "metadata": {},
   "outputs": [],
   "source": [
    "os.environ['TAVILY_API_KEY']=os.getenv(\"TAVILY_API_KEY\")"
   ]
  },
  {
   "cell_type": "code",
   "execution_count": 18,
   "id": "c165332a",
   "metadata": {},
   "outputs": [],
   "source": [
    "from langchain_tavily import TavilySearch"
   ]
  },
  {
   "cell_type": "code",
   "execution_count": 19,
   "id": "d72c65aa",
   "metadata": {},
   "outputs": [],
   "source": [
    "tool = TavilySearch(\n",
    "    max_results=50)"
   ]
  },
  {
   "cell_type": "code",
   "execution_count": 20,
   "id": "ab65bd7e",
   "metadata": {},
   "outputs": [],
   "source": [
    "response=tool.invoke({'query':\"give me links of PCA videos in youtube. you must provide only youtube urls. url format: https://www.youtube.com/\"})"
   ]
  },
  {
   "cell_type": "code",
   "execution_count": 21,
   "id": "121d3a7d",
   "metadata": {},
   "outputs": [],
   "source": [
    "def get_youtube_urls(query):\n",
    "    tool = TavilySearch(max_results=50)\n",
    "    response=tool.invoke({'query':f\"give me links of {query} videos in youtube. you must provide only youtube urls. url format: https://www.youtube.com/\"})\n",
    "    youtube_urls=[]\n",
    "    for i in response[\"results\"]:\n",
    "        if is_youtube_url(i['url']):\n",
    "            youtube_urls.append(i['url'])\n",
    "    return youtube_urls"
   ]
  },
  {
   "cell_type": "code",
   "execution_count": 22,
   "id": "385344a4",
   "metadata": {},
   "outputs": [
    {
     "data": {
      "text/plain": [
       "dict"
      ]
     },
     "execution_count": 22,
     "metadata": {},
     "output_type": "execute_result"
    }
   ],
   "source": [
    "type(response)"
   ]
  },
  {
   "cell_type": "code",
   "execution_count": 23,
   "id": "4fc02f50",
   "metadata": {},
   "outputs": [],
   "source": [
    "import re\n",
    "\n",
    "def is_youtube_url(url: str) -> bool:\n",
    "    \"\"\"\n",
    "    Checks whether the given URL is a valid YouTube video URL.\n",
    "    \"\"\"\n",
    "    youtube_patterns = [\n",
    "        r'^https?://(www\\.)?youtube\\.com/watch\\?v=.+',\n",
    "        r'^https?://youtu\\.be/.+'\n",
    "    ]\n",
    "    \n",
    "    return any(re.match(pattern, url) for pattern in youtube_patterns)\n"
   ]
  },
  {
   "cell_type": "code",
   "execution_count": 24,
   "id": "a4b15b1a",
   "metadata": {},
   "outputs": [],
   "source": [
    "youtube_urls=[]\n",
    "for i in response[\"results\"]:\n",
    "    if is_youtube_url(i['url']):\n",
    "        youtube_urls.append(i['url'])"
   ]
  },
  {
   "cell_type": "code",
   "execution_count": 25,
   "id": "24fb2c5c",
   "metadata": {},
   "outputs": [
    {
     "data": {
      "text/plain": [
       "50"
      ]
     },
     "execution_count": 25,
     "metadata": {},
     "output_type": "execute_result"
    }
   ],
   "source": [
    "len(response[\"results\"])"
   ]
  },
  {
   "cell_type": "code",
   "execution_count": 26,
   "id": "736a31c0",
   "metadata": {},
   "outputs": [
    {
     "data": {
      "text/plain": [
       "['https://www.youtube.com/watch?v=-Zmg_Q85Wt4',\n",
       " 'https://www.youtube.com/watch?v=KA3csdPvp2E',\n",
       " 'https://www.youtube.com/watch?v=MN3nup1n0sU']"
      ]
     },
     "execution_count": 26,
     "metadata": {},
     "output_type": "execute_result"
    }
   ],
   "source": [
    "youtube_urls"
   ]
  },
  {
   "cell_type": "code",
   "execution_count": 27,
   "id": "2e8ef8ba",
   "metadata": {},
   "outputs": [],
   "source": [
    "embeded_codes=[]\n",
    "for i in youtube_urls:\n",
    "    embeded_codes.append(get_embed_code(i))"
   ]
  },
  {
   "cell_type": "code",
   "execution_count": null,
   "id": "e8c34315",
   "metadata": {},
   "outputs": [],
   "source": []
  },
  {
   "cell_type": "code",
   "execution_count": 28,
   "id": "ac1a1115",
   "metadata": {},
   "outputs": [
    {
     "data": {
      "text/plain": [
       "['<iframe width=\"560\" height=\"315\" src=\"https://www.youtube.com/embed/-Zmg_Q85Wt4\" frameborder=\"0\" allowfullscreen></iframe>',\n",
       " '<iframe width=\"560\" height=\"315\" src=\"https://www.youtube.com/embed/KA3csdPvp2E\" frameborder=\"0\" allowfullscreen></iframe>',\n",
       " '<iframe width=\"560\" height=\"315\" src=\"https://www.youtube.com/embed/MN3nup1n0sU\" frameborder=\"0\" allowfullscreen></iframe>']"
      ]
     },
     "execution_count": 28,
     "metadata": {},
     "output_type": "execute_result"
    }
   ],
   "source": [
    "embeded_codes"
   ]
  },
  {
   "cell_type": "code",
   "execution_count": null,
   "id": "918ce361",
   "metadata": {},
   "outputs": [],
   "source": []
  },
  {
   "cell_type": "code",
   "execution_count": 29,
   "id": "61f1776f",
   "metadata": {},
   "outputs": [],
   "source": [
    "from langchain_groq import ChatGroq\n",
    "llm=ChatGroq(model=\"gemma2-9b-it\")"
   ]
  },
  {
   "cell_type": "code",
   "execution_count": 30,
   "id": "f9739a2d",
   "metadata": {},
   "outputs": [
    {
     "data": {
      "text/plain": [
       "AIMessage(content='Hello! 👋\\n\\nHow can I help you today? 😊\\n', additional_kwargs={}, response_metadata={'token_usage': {'completion_tokens': 15, 'prompt_tokens': 11, 'total_tokens': 26, 'completion_time': 0.027272727, 'prompt_time': 0.001919026, 'queue_time': 0.23121692300000002, 'total_time': 0.029191753}, 'model_name': 'gemma2-9b-it', 'system_fingerprint': 'fp_10c08bf97d', 'finish_reason': 'stop', 'logprobs': None}, id='run-e43a3050-e379-4450-a903-4302253634e1-0', usage_metadata={'input_tokens': 11, 'output_tokens': 15, 'total_tokens': 26})"
      ]
     },
     "execution_count": 30,
     "metadata": {},
     "output_type": "execute_result"
    }
   ],
   "source": [
    "llm.invoke(\"hello\")"
   ]
  },
  {
   "cell_type": "code",
   "execution_count": 31,
   "id": "c6bcd6f0",
   "metadata": {},
   "outputs": [],
   "source": [
    "from pydantic import BaseModel,Field"
   ]
  },
  {
   "cell_type": "code",
   "execution_count": 35,
   "id": "5e925239",
   "metadata": {},
   "outputs": [],
   "source": [
    "class QuizFormat(BaseModel):\n",
    "    Question:str =Field(description=\"Question\")\n",
    "    A:str = Field(description=\"first option\")\n",
    "    B: str = Field(description=\"second option\")\n",
    "    C: str = Field(description=\"Third option\")\n",
    "    D: str = Field(description=\"fourth option\")\n",
    "    Answer:str = Field(description=\"Answer\")\n",
    "    Explanation:str = Field(description=\"Explantion of the answer in two lines\")"
   ]
  },
  {
   "cell_type": "code",
   "execution_count": 36,
   "id": "7d1b55e3",
   "metadata": {},
   "outputs": [],
   "source": [
    "quiz_llm=llm.with_structured_output(QuizFormat)"
   ]
  },
  {
   "cell_type": "code",
   "execution_count": 38,
   "id": "7c2f8bad",
   "metadata": {},
   "outputs": [
    {
     "data": {
      "text/plain": [
       "QuizFormat(Question='What is machine learning?', A='A type of artificial intelligence that involves training computers to learn from data without explicit programming.', B='A programming language designed for building AI models.', C='A method for analyzing large datasets.', D='A type of database used to store machine learning models.', Answer='A', Explanation='Machine learning algorithms learn patterns and relationships from data, enabling them to make predictions or decisions on new, unseen data.')"
      ]
     },
     "execution_count": 38,
     "metadata": {},
     "output_type": "execute_result"
    }
   ],
   "source": [
    "quiz_llm.invoke(\"Ask 10 questions about machine learning\")"
   ]
  },
  {
   "cell_type": "code",
   "execution_count": null,
   "id": "b7ed0e8d",
   "metadata": {},
   "outputs": [
    {
     "name": "stdout",
     "output_type": "stream",
     "text": [
      "\n",
      "Q1. In linear regression, what does the coefficient of determination (R-squared) represent?\n",
      "A. The slope of the regression line\n",
      "B. The correlation between the independent and dependent variables\n",
      "C. The proportion of variance in the dependent variable explained by the independent variable\n",
      "D. The y-intercept of the regression line\n",
      "Correct Answer: C The proportion of variance in the dependent variable explained by the independent variable\n",
      "Explanation: R-squared indicates how well the linear model fits the data. A higher R-squared value means a better fit.\n",
      "\n",
      "Q2. In a linear regression model, what does the R-squared value represent?\n",
      "A. The slope of the regression line\n",
      "B. The y-intercept of the regression line\n",
      "C. The proportion of the variance in the dependent variable that is explained by the independent variable\n",
      "D. The strength of the linear relationship between the independent and dependent variables\n",
      "Correct Answer: C. The proportion of the variance in the dependent variable that is explained by the independent variable\n",
      "Explanation: R-squared measures how well the linear regression model fits the data. A higher R-squared indicates a better fit.\n",
      "\n",
      "Q3. In linear regression, what does the R-squared value represent?\n",
      "A. The slope of the regression line\n",
      "B. The correlation coefficient between the independent and dependent variables\n",
      "C. The proportion of variance in the dependent variable explained by the independent variable\n",
      "D. The standard deviation of the residuals\n",
      "Correct Answer: C The proportion of variance in the dependent variable explained by the independent variable\n",
      "Explanation: R-squared measures how well the linear regression line fits the data.\n",
      "\n",
      "Q4. What is the key assumption of linear regression that ensures the best possible fit line?\n",
      "A. The data points are normally distributed.\n",
      "B. The relationship between the independent and dependent variables is linear.\n",
      "C. The variance of the residuals is constant across all levels of the independent variable.\n",
      "D. There is no multicollinearity among the independent variables.\n",
      "Correct Answer: C. The variance of the residuals is constant across all levels of the independent variable.\n",
      "Explanation: This assumption, called homoscedasticity, ensures the model accurately captures the spread of the data.\n",
      "\n",
      "Q5. In linear regression, what does the R-squared value represent?\n",
      "A. The slope of the regression line\n",
      "B. The y-intercept of the regression line\n",
      "C. The proportion of variance in the dependent variable explained by the independent variable\n",
      "D. The standard error of the regression\n",
      "Correct Answer: C The proportion of variance in the dependent variable explained by the independent variable\n",
      "Explanation: R-squared is a measure of how well the independent variable(s) predict the dependent variable.\n",
      "\n",
      "Q6. Which of the following is NOT an assumption of linear regression?\n",
      "A. The relationship between the independent and dependent variables is linear.\n",
      "B. The residuals are normally distributed.\n",
      "C. The independent variables are categorical.\n",
      "D. There is no multicollinearity among the independent variables.\n",
      "Correct Answer: C. The independent variables are categorical.\n",
      "Explanation: Linear regression assumes a continuous relationship between variables.\n",
      "\n",
      "Q7. What is the equation of the line of best fit for a dataset with a slope of 2 and a y-intercept of 3?\n",
      "A. y = 2x + 3\n",
      "B. y = 3x + 2\n",
      "C. y = x + 5\n",
      "D. y = 2x - 3\n",
      "Correct Answer: A. y = 2x + 3\n",
      "Explanation: The equation of a line is y = mx + b, where m is the slope and b is the y-intercept. The given slope is 2 and the y-intercept is 3.\n",
      "\n",
      "Q8. What does the coefficient of determination (R-squared) measure in a linear regression model?\n",
      "A. The slope of the regression line\n",
      "B. The strength and direction of the linear relationship between variables\n",
      "C. The percentage of variance in the dependent variable explained by the independent variable\n",
      "D. The mean of the dependent variable\n",
      "Correct Answer: C. The percentage of variance in the dependent variable explained by the independent variable\n",
      "Explanation: R-squared represents the proportion of variability in the outcome that is predictable from the model.\n",
      "\n",
      "Q9. Which of the following is NOT an assumption of linear regression?\n",
      "A. Linear relationship between variables\n",
      "B. Normally distributed residuals\n",
      "C. Homoscedasticity of residuals\n",
      "D. Presence of multicollinearity\n",
      "Correct Answer: D. Presence of multicollinearity\n",
      "Explanation: Multicollinearity violates the assumption of independent predictors.\n",
      "\n",
      "Q10. Which of the following is NOT a characteristic of a good linear regression model?\n",
      "A. High R-squared value\n",
      "B. Clear linear relationship between variables\n",
      "C. Presence of outliers significantly influencing the line\n",
      "D. Minimized residuals\n",
      "Correct Answer: C\n",
      "Explanation: Outliers can disproportionately influence the line of best fit, leading to a less accurate representation of the relationship.\n",
      "\n",
      "Q11. In linear regression, what does the intercept represent?\n",
      "A. The slope of the line\n",
      "B. The change in the dependent variable for a one-unit change in the independent variable\n",
      "C. The point where the regression line crosses the y-axis\n",
      "D. The sum of the squared residuals\n",
      "Correct Answer: C. The point where the regression line crosses the y-axis\n",
      "Explanation: The intercept is the value of the dependent variable when the independent variable is zero.\n",
      "\n",
      "Q12. What is the primary assumption of linear regression that ensures the model's predictions are unbiased?\n",
      "A. Normality of residuals\n",
      "B. Linearity of the relationship between variables\n",
      "C. Homoscedasticity of residuals\n",
      "D. Independence of observations\n",
      "Correct Answer: D. Independence of observations\n",
      "Explanation: Independent observations ensure each data point's influence on the model is unique, preventing bias.\n",
      "\n",
      "Q13. What is the primary goal of linear regression?\n",
      "A. To classify data into distinct categories\n",
      "B. To predict a continuous outcome variable based on one or more predictor variables\n",
      "C. To identify patterns and clusters in unlabeled data\n",
      "D. To determine the probability of an event occurring\n",
      "Correct Answer: B. To predict a continuous outcome variable based on one or more predictor variables\n",
      "Explanation: Linear regression aims to establish a linear relationship between variables to forecast continuous outcomes.\n",
      "\n",
      "Q14. What is the interpretation of the slope coefficient in a simple linear regression model?\n",
      "A. The y-intercept of the line\n",
      "B. The change in the dependent variable for a one-unit increase in the independent variable\n",
      "C. The standard deviation of the dependent variable\n",
      "D. The correlation coefficient between the independent and dependent variables\n",
      "Correct Answer: B The change in the dependent variable for a one-unit increase in the independent variable\n",
      "Explanation: The slope represents the direction and magnitude of the linear relationship between the variables.\n",
      "\n",
      "Q15. In linear regression, what does the R-squared value represent?\n",
      "A. The slope of the regression line\n",
      "B. The correlation coefficient between the independent and dependent variables\n",
      "C. The proportion of variance in the dependent variable explained by the independent variable\n",
      "D. The standard error of the estimate\n",
      "Correct Answer: C. The proportion of variance in the dependent variable explained by the independent variable\n",
      "Explanation: R-squared indicates how well the linear regression model fits the data. A higher R-squared means more variance is explained.\n",
      "\n",
      "Q16. What is the primary assumption of linear regression that concerns the relationship between independent and dependent variables?\n",
      "A. Linearity\n",
      "B. Normality\n",
      "C. Homoscedasticity\n",
      "D. Independence\n",
      "Correct Answer: C\n",
      "Explanation: Homoscedasticity means the variance of the residuals is constant across all levels of the independent variable.\n",
      "\n",
      "Q17. In linear regression, what does the coefficient of determination (R-squared) measure?\n",
      "A. The slope of the regression line\n",
      "B. The strength and direction of the linear relationship between variables\n",
      "C. The y-intercept of the regression line\n",
      "D. The average deviation of data points from the regression line\n",
      "Correct Answer: B The strength and direction of the linear relationship between variables\n",
      "Explanation: R-squared represents the proportion of variance in the dependent variable explained by the independent variable(s).\n",
      "\n",
      "Q18. In linear regression, what does the R-squared value represent?\n",
      "A. The slope of the regression line\n",
      "B. The correlation coefficient between the independent and dependent variables\n",
      "C. The proportion of variance in the dependent variable explained by the independent variable\n",
      "D. The standard deviation of the residuals\n",
      "Correct Answer: C The proportion of variance in the dependent variable explained by the independent variable\n",
      "Explanation: R-squared measures how well the linear regression model fits the data.\n",
      "\n",
      "Q19. What is the primary goal of linear regression?\n",
      "A. To categorize data into distinct groups\n",
      "B. To identify non-linear relationships between variables\n",
      "C. To predict a continuous outcome variable based on one or more predictor variables\n",
      "D. To determine the probability of an event occurring\n",
      "Correct Answer: C. To predict a continuous outcome variable based on one or more predictor variables\n",
      "Explanation: Linear regression aims to find the best-fitting straight line that describes the relationship between variables, enabling prediction of the dependent variable.\n",
      "\n",
      "Q20. In linear regression, what is the purpose of the residual plot?\n",
      "A. To visualize the relationship between the independent and dependent variables.\n",
      "B. To identify outliers and assess the linearity assumption.\n",
      "C. To determine the best-fit line for the data.\n",
      "D. To calculate the correlation coefficient between variables.\n",
      "Correct Answer: B. To identify outliers and assess the linearity assumption.\n",
      "Explanation: A residual plot helps to assess the adequacy of the linear model by examining the differences between predicted and actual values. It can reveal patterns that indicate non-linearity or other issues.\n"
     ]
    }
   ],
   "source": [
    "from pydantic import BaseModel, Field\n",
    "from langchain_core.prompts import PromptTemplate\n",
    "from langchain_core.runnables import RunnableLambda\n",
    "from typing import List\n",
    "\n",
    "# Define the QuizFormat structure\n",
    "class QuizFormat(BaseModel):\n",
    "    Question: str = Field(description=\"Question\")\n",
    "    A: str = Field(description=\"first option\")\n",
    "    B: str = Field(description=\"second option\")\n",
    "    C: str = Field(description=\"Third option\")\n",
    "    D: str = Field(description=\"fourth option\")\n",
    "    Answer: str = Field(description=\"Correct answer with option letter and full text\")\n",
    "    Explanation: str = Field(description=\"Explanation of the answer in two lines\")\n",
    "\n",
    "# Create the prompt template\n",
    "prompt_template = PromptTemplate.from_template(\"\"\"\n",
    "You are a professional AI quiz generator. Your job is to generate high-quality multiple-choice questions for students.\n",
    "\n",
    "Guidelines:\n",
    "- Number of questions: {number_of_questions}\n",
    "- Topic: {topic}\n",
    "- Difficulty Level: {level} (easy, medium, hard, or mixed — if \"mixed\", include a blend)\n",
    "- Each question should follow this format:\n",
    "    Q. [Question]\n",
    "    A. Option A\n",
    "    B. Option B\n",
    "    C. Option C\n",
    "    D. Option D\n",
    "    Correct Answer: [Option Letter] [Full text of correct option]\n",
    "    Explanation: [Short and clear explanation of why this option is correct]\n",
    "- Only one correct answer per question.\n",
    "- Keep questions unique and non-repetitive.\n",
    "- Explanations should be simple, educational, and not more than two lines.\n",
    "\n",
    "Generate the next question now.\n",
    "\"\"\")\n",
    "\n",
    "# Assume you already have a loaded LLM (e.g., from ChatOpenAI or ChatGroq)\n",
    "# If not:\n",
    "# from langchain.chat_models import ChatOpenAI\n",
    "# llm = ChatOpenAI(model_name=\"gpt-3.5-turbo\")\n",
    "\n",
    "# Wrap the LLM with structured output\n",
    "quiz_llm = llm.with_structured_output(QuizFormat)\n",
    "\n",
    "# Chain to generate multiple questions\n",
    "def generate_quiz(topic: str, level: str, number_of_questions: int) -> List[QuizFormat]:\n",
    "    results = []\n",
    "    for _ in range(number_of_questions):\n",
    "        input_vars = {\n",
    "            \"topic\": topic,\n",
    "            \"level\": level,\n",
    "            \"number_of_questions\": number_of_questions  # just passed for prompt consistency\n",
    "        }\n",
    "        question = quiz_llm.invoke(prompt_template.format(**input_vars))\n",
    "        results.append(question)\n",
    "    return results\n",
    "\n",
    "# Example usage\n",
    "quiz_questions = generate_quiz(topic=\"Linear Regression\", level=\"hard\", number_of_questions=10)\n",
    "\n",
    "# Print the results\n",
    "for i, q in enumerate(quiz_questions, 1):\n",
    "    print(f\"\\nQ{i}. {q.Question}\")\n",
    "    print(f\"A. {q.A}\")\n",
    "    print(f\"B. {q.B}\")\n",
    "    print(f\"C. {q.C}\")\n",
    "    print(f\"D. {q.D}\")\n",
    "    print(f\"Correct Answer: {q.Answer}\")\n",
    "    print(f\"Explanation: {q.Explanation}\")\n"
   ]
  },
  {
   "cell_type": "code",
   "execution_count": null,
   "id": "3ea9157d",
   "metadata": {},
   "outputs": [],
   "source": []
  }
 ],
 "metadata": {
  "kernelspec": {
   "display_name": "Python 3",
   "language": "python",
   "name": "python3"
  },
  "language_info": {
   "codemirror_mode": {
    "name": "ipython",
    "version": 3
   },
   "file_extension": ".py",
   "mimetype": "text/x-python",
   "name": "python",
   "nbconvert_exporter": "python",
   "pygments_lexer": "ipython3",
   "version": "3.11.0"
  }
 },
 "nbformat": 4,
 "nbformat_minor": 5
}
